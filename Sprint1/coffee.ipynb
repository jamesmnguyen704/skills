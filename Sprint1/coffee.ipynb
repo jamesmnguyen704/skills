{
 "cells": [
  {
   "cell_type": "code",
   "execution_count": 4,
   "id": "0e4260c0",
   "metadata": {},
   "outputs": [
    {
     "name": "stdout",
     "output_type": "stream",
     "text": [
      "{'SBUX': 120.29, 'DNKN': 106.48, 'BROS': 76.25, 'SJM': 159.22}\n"
     ]
    }
   ],
   "source": [
    "# using stocks symbols as keys and the stock prices as values\n",
    "# assign the dictionary {'SBUX': 120.29, 'DNKN': 106.48, 'BROS': 76.25} to a variable called coffee_stocks\n",
    "\n",
    "coffee_stocks = {'SBUX': 120.29, 'DNKN': 106.48, 'BROS': 76.25}\n",
    "coffee_stocks['SBUX'] = 120.29\n",
    "coffee_stocks['SJM'] = 159.22\n",
    "print(coffee_stocks)\n"
   ]
  },
  {
   "cell_type": "code",
   "execution_count": 5,
   "id": "7f891898",
   "metadata": {},
   "outputs": [
    {
     "name": "stdout",
     "output_type": "stream",
     "text": [
      "(120.29, 106.48, 76.25, 159.22)\n"
     ]
    }
   ],
   "source": [
    "# creating a tuple from the values of the dictionary coffee_stocks\n",
    "\n",
    "values = tuple(coffee_stocks.values())\n",
    "print(values)"
   ]
  },
  {
   "cell_type": "code",
   "execution_count": 6,
   "id": "ed0445bc",
   "metadata": {},
   "outputs": [
    {
     "name": "stdout",
     "output_type": "stream",
     "text": [
      "{'SBUX': 120.29, 'DNKN': 106.48, 'BROS': 76.25, 'SJM': 159.22}\n"
     ]
    }
   ],
   "source": [
    "# adding a key and value to the dictionary coffee_stocks\n",
    "coffee_stocks['SJM'] = 159.22 # adding a new key-value pair\n",
    "print(coffee_stocks)"
   ]
  },
  {
   "cell_type": "code",
   "execution_count": 2,
   "id": "5ad60ab4",
   "metadata": {},
   "outputs": [
    {
     "name": "stdout",
     "output_type": "stream",
     "text": [
      "2020\n"
     ]
    }
   ],
   "source": [
    "# list variables \n",
    "ticker = ['SBUX', 'DNKN', 'BROS']\n",
    "ath_price = [120.29, 106.48, 76.25]\n",
    "ath_year = [2021, 2020, 2021]\n",
    "\n",
    "# create the dictionary with keys corresponding to column names and value to lists\n",
    "\n",
    "ath_data = {\n",
    "    'company': ticker,\n",
    "    'price': ath_price,\n",
    "    'year': ath_year\n",
    "}\n",
    "# print the 2nd value in the 'year' column\n",
    "print(ath_data['year'][1])\n",
    "# Index 1 corresponds to the second value"
   ]
  },
  {
   "cell_type": "code",
   "execution_count": 6,
   "id": "5ce26a22",
   "metadata": {},
   "outputs": [
    {
     "name": "stdout",
     "output_type": "stream",
     "text": [
      "120.29\n"
     ]
    }
   ],
   "source": [
    "# Task 2 Create a list of dictionaries using the coffee stock ticker symbols, their ATH prices, and the years those prices were reached. The column names of the table are the same as before: 'company', 'price', and 'year'. Assign the table to a variable called ath_data, then print the 1st value in the 'price' column from it. The precode contains comments to remind you of the values you need to use.\n",
    "\n",
    "# Define the data for each company\n",
    "ath_data = [\n",
    "    {'company': 'SBUX', 'price': 120.29, 'year': 2021},\n",
    "    {'company': 'DNKN', 'price': 106.48, 'year': 2020},\n",
    "    {'company': 'BROS', 'price': 76.25, 'year': 2021}\n",
    "]\n",
    "\n",
    "# Print the 1st value in the 'price' column, which is the price of the first dictionary in the list\n",
    "print(ath_data[0]['price'])"
   ]
  }
 ],
 "metadata": {
  "kernelspec": {
   "display_name": "Python 3",
   "language": "python",
   "name": "python3"
  },
  "language_info": {
   "codemirror_mode": {
    "name": "ipython",
    "version": 3
   },
   "file_extension": ".py",
   "mimetype": "text/x-python",
   "name": "python",
   "nbconvert_exporter": "python",
   "pygments_lexer": "ipython3",
   "version": "3.11.9"
  }
 },
 "nbformat": 4,
 "nbformat_minor": 5
}
