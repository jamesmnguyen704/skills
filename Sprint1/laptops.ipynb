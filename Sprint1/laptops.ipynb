{
 "cells": [
  {
   "cell_type": "code",
   "execution_count": 15,
   "metadata": {},
   "outputs": [
    {
     "name": "stdout",
     "output_type": "stream",
     "text": [
      "{'lenovo': 399.99, 'apple': 749.99, 'hp': 349.99, 'dell': 599.99}\n",
      "{'lenovo': 399.99, 'apple': 749.99, 'hp': 349.99, 'dell': 499.99}\n"
     ]
    }
   ],
   "source": [
    "# using curly braces {} to create a dictionary \n",
    "# using dict() function to create a dictionary\n",
    "# colon (:) separates key and value\n",
    "\n",
    "laptops = {'lenovo': 399.99, 'apple': 749.99, 'hp': 349.99, 'dell': 599.99}\n",
    "print(laptops)\n",
    "\n",
    "laptops['dell'] = 499.99\n",
    "print(laptops)"
   ]
  },
  {
   "cell_type": "code",
   "execution_count": 16,
   "metadata": {},
   "outputs": [
    {
     "name": "stdout",
     "output_type": "stream",
     "text": [
      "{'lenovo': 399.99, 'apple': 749.99, 'hp': 349.99, 'dell': 499.99, 'acer': 472.99}\n"
     ]
    }
   ],
   "source": [
    "# print() will alawys return a dictionary in the same order as the keys were added\n",
    "\n",
    "laptops['acer'] = 472.99\n",
    "print(laptops)\n"
   ]
  },
  {
   "cell_type": "code",
   "execution_count": 17,
   "metadata": {},
   "outputs": [
    {
     "name": "stdout",
     "output_type": "stream",
     "text": [
      "dict_items([('lenovo', 399.99), ('apple', 749.99), ('hp', 349.99), ('dell', 499.99), ('acer', 472.99)])\n",
      "<class 'dict_items'>\n"
     ]
    }
   ],
   "source": [
    "# items() returns a view object that displays a list of a dictionary's key-value tuple pairs\n",
    "# Here, items() returns a dict_items object, which is not a typical list but can be easily converted to one if needed.\n",
    "\n",
    "print(laptops.items())\n",
    "print(type(laptops.items()))"
   ]
  },
  {
   "cell_type": "code",
   "execution_count": 18,
   "metadata": {},
   "outputs": [
    {
     "name": "stdout",
     "output_type": "stream",
     "text": [
      "[('lenovo', 399.99), ('apple', 749.99), ('hp', 349.99), ('dell', 499.99), ('acer', 472.99)]\n",
      "<class 'list'>\n"
     ]
    }
   ],
   "source": [
    "# If you want the key-value pairs as a list (perhaps to manipulate them further), you can wrap the result in the list() function:\n",
    "laptop_items = list(laptops.items()) \n",
    "print(laptop_items)\n",
    "print(type(laptop_items))"
   ]
  },
  {
   "cell_type": "code",
   "execution_count": 19,
   "metadata": {},
   "outputs": [
    {
     "name": "stdout",
     "output_type": "stream",
     "text": [
      "dict_keys(['lenovo', 'apple', 'hp', 'dell', 'acer'])\n",
      "<class 'dict_keys'>\n"
     ]
    }
   ],
   "source": [
    "# keys() returns a view object that displays a list of all the keys in the dictionary.\n",
    "print(laptops.keys())  # get all the keys in the dictionary\n",
    "print(type(laptops.keys())) # check the data type of the keys() method\n",
    "\n",
    "# As with items(), the keys() method returns a special object (dict_keys), which can also be converted to a list or other types if necessary."
   ]
  },
  {
   "cell_type": "code",
   "execution_count": 20,
   "metadata": {},
   "outputs": [
    {
     "name": "stdout",
     "output_type": "stream",
     "text": [
      "dict_values([399.99, 749.99, 349.99, 499.99, 472.99])\n",
      "<class 'dict_values'>\n"
     ]
    }
   ],
   "source": [
    "# retrieving only values with values() method\n",
    "\n",
    "print(laptops.values()) # get all the values in the dictionary\n",
    "print(type(laptops.values())) # check the data type of the values() method"
   ]
  },
  {
   "cell_type": "code",
   "execution_count": 21,
   "metadata": {},
   "outputs": [
    {
     "name": "stdout",
     "output_type": "stream",
     "text": [
      "{'lenovo': 399.99, 'apple': 749.99, 'hp': 349.99, 'dell': 499.99, 'acer': 472.99}\n"
     ]
    }
   ],
   "source": [
    "# updating dictionary values \n",
    "\n",
    "laptops['dell'] = 499.99 # changing the price of dell laptop from 599.99 to 499.99\n",
    "print(laptops) # print the updated dictionary"
   ]
  },
  {
   "cell_type": "code",
   "execution_count": 22,
   "metadata": {},
   "outputs": [
    {
     "name": "stdout",
     "output_type": "stream",
     "text": [
      "{'lenovo': 399.99, 'apple': 749.99, 'hp': 349.99, 'dell': 499.99, 'acer': 472.99}\n"
     ]
    }
   ],
   "source": [
    "# The syntax for adding a new item is the same as updating an existing item—if the key does not already exist, Python will simply add it to the dictionary with the specified value. Let’s continue with our laptop example. We found a new laptop brand—an Acer—that we want to add to our dictionary:\n",
    "laptops['acer'] = 472.99 # adding a new laptop brand to the dictionary\n",
    "print(laptops) # print the updated dictionary"
   ]
  },
  {
   "cell_type": "code",
   "execution_count": 23,
   "metadata": {},
   "outputs": [
    {
     "name": "stdout",
     "output_type": "stream",
     "text": [
      "472.99\n",
      "{'lenovo': 399.99, 'hp': 349.99, 'dell': 499.99}\n"
     ]
    }
   ],
   "source": [
    "# removing items from a dictionary\n",
    "# The pop() method removes the item with the specified key name and returns its value.\n",
    "# The del() method removes the item with the specified key name.\n",
    "\n",
    "del laptops['apple']\n",
    "remove_value = laptops.pop('acer') # remove acer laptop from the dictionary and store its value in remove_value variable\n",
    "print(remove_value) # print the value of the removed acer laptop\n",
    "\n",
    "print(laptops) # print the updated dictionary after removing apple laptop"
   ]
  },
  {
   "cell_type": "code",
   "execution_count": 24,
   "metadata": {},
   "outputs": [
    {
     "name": "stdout",
     "output_type": "stream",
     "text": [
      "{'lenovo': 399.99, 'hp': 349.99, 'dell': 499.99, 'apple': 749.99, 'acer': 472.99}\n"
     ]
    }
   ],
   "source": [
    "laptops['apple'] = 749.99 # adding apple laptop back to the dictionary \n",
    "laptops['acer'] = 472.99 # adding acer laptop back to the dictionary\n",
    "print(laptops) # print the updated dictionary after adding acer and apple laptops back\n"
   ]
  },
  {
   "cell_type": "code",
   "execution_count": 28,
   "metadata": {},
   "outputs": [
    {
     "name": "stdout",
     "output_type": "stream",
     "text": [
      "The size column: [15.6, 13.3, 17.3, 16.0]\n",
      "HP size: 17.3\n"
     ]
    }
   ],
   "source": [
    "# creating a table with multiple keys and values\n",
    "\n",
    "brands = ['lenovo', 'apple', 'hp', 'dell']\n",
    "models = ['ideapad', 'macbook air', 'hd+', 'inspiron']\n",
    "sizes = [15.6, 13.3, 17.3, 16.0]\n",
    "prices = [399.99, 749.99, 349.99, 599.99]\n",
    "\n",
    "laptop_data = {'brand': brands, 'model': models, 'size': sizes, 'price': prices }\n",
    "\n",
    "print(\"The size column:\", laptop_data['size'])\n",
    "print(\"HP size:\", laptop_data['size'][2])\n"
   ]
  },
  {
   "cell_type": "code",
   "execution_count": 30,
   "metadata": {},
   "outputs": [
    {
     "name": "stdout",
     "output_type": "stream",
     "text": [
      "[{'brand': 'lenovo', 'model': 'ideapad', 'size': 15.6, 'price': 399.99}, {'brand': 'apple', 'model': 'macbook air', 'size': 13.3, 'price': 749.99}, {'brand': 'hp', 'model': 'hd+', 'size': 17.3, 'price': 349.99}, {'brand': 'dell', 'model': 'inspiron', 'size': 16.0, 'price': 599.99}]\n",
      "The third row: {'brand': 'hp', 'model': 'hd+', 'size': 17.3, 'price': 349.99}\n",
      "HP size: 17.3\n"
     ]
    }
   ],
   "source": [
    "# lists of dictionaries. we are doing a row based format which we can use list of dictionaries instead\n",
    "# Each dictionary in the list represents a row of data where the keys are column names and values\n",
    "\n",
    "laptop_data =  [\n",
    "    {'brand': 'lenovo', 'model': 'ideapad', 'size': 15.6, 'price': 399.99},\n",
    "    {'brand': 'apple', 'model': 'macbook air', 'size': 13.3, 'price': 749.99},\n",
    "    {'brand': 'hp', 'model': 'hd+', 'size': 17.3, 'price': 349.99},\n",
    "    {'brand': 'dell', 'model': 'inspiron', 'size': 16.0, 'price': 599.99}\n",
    "]\n",
    "\n",
    "print(laptop_data)\n",
    "\n",
    "# To access individual table elements from a list of dictionaries we can use a double indexing \n",
    "print(\"The third row:\", laptop_data[2])\n",
    "print(\"HP size:\", laptop_data[2]['size'])"
   ]
  }
 ],
 "metadata": {
  "kernelspec": {
   "display_name": "Python 3",
   "language": "python",
   "name": "python3"
  },
  "language_info": {
   "codemirror_mode": {
    "name": "ipython",
    "version": 3
   },
   "file_extension": ".py",
   "mimetype": "text/x-python",
   "name": "python",
   "nbconvert_exporter": "python",
   "pygments_lexer": "ipython3",
   "version": "3.11.9"
  }
 },
 "nbformat": 4,
 "nbformat_minor": 2
}
