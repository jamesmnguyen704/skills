{
 "cells": [
  {
   "cell_type": "code",
   "execution_count": 13,
   "id": "c43b19f1",
   "metadata": {},
   "outputs": [
    {
     "name": "stdout",
     "output_type": "stream",
     "text": [
      "18.0\n"
     ]
    }
   ],
   "source": [
    "# Function syntax \n",
    "# Creating a function in python so it can be reusable set of instructions designs to perform a specific task\n",
    "def square_and_halve(number):\n",
    "    result = (number ** 2) / 2\n",
    "    return result\n",
    "# This function takes a number, squares it, and then divides the result by 2. Let’s break down its key parts:\n",
    "# def: This is a keyword that tells Python you're defining a function.\n",
    "# square_and_halve: This is the name of the function, and it should describe what the function does.\n",
    "# number: This is a parameter — a placeholder for the input that the function needs.\n",
    "# The code inside the function (which is indented) is the actual set of instructions that will run when the function is called.\n",
    "# return: This keyword specifies what the function will send back after it has finished executing its instructions.\n",
    "\n",
    "x = square_and_halve(6)\n",
    "print(x)\n",
    "\n",
    "# parameters vs arguments, we created function with the parammeter number, and a function with the argument 6\n"
   ]
  },
  {
   "cell_type": "code",
   "execution_count": 14,
   "id": "ede8d66b",
   "metadata": {},
   "outputs": [
    {
     "name": "stdout",
     "output_type": "stream",
     "text": [
      "[2.0, 8.0, 18.0, 32.0]\n"
     ]
    }
   ],
   "source": [
    "def square_and_halve_list(numbers):\n",
    "    results = []\n",
    "    for number in numbers:\n",
    "        result = (number ** 2) / 2\n",
    "        results.append(result)\n",
    "    return results\n",
    "# loop for number in numbers to go to each item, each number we square and divide it by 2, result is adde to result_list\n",
    "numbers = [2, 4, 6, 8]\n",
    "x = square_and_halve_list(numbers)\n",
    "print(x)\n",
    "# This function takes a list of numbers, squares each number, and divides the result by 2. It returns a new list with the results."
   ]
  },
  {
   "cell_type": "code",
   "execution_count": 15,
   "id": "0263ed05",
   "metadata": {},
   "outputs": [
    {
     "name": "stdout",
     "output_type": "stream",
     "text": [
      "['alligator', 'antelope', 'capybara', 'gibbon', 'koala', 'manatee']\n"
     ]
    }
   ],
   "source": [
    "def sort_alph(list_of_strings):\n",
    "    # Convert all strings in the list to lowercase\n",
    "    lowercase_strings = [string.lower() for string in list_of_strings]\n",
    "    # Sort the list alphabetically\n",
    "    sorted_strings = sorted(lowercase_strings)\n",
    "    # Return the sorted list\n",
    "    return sorted_strings\n",
    "\n",
    "# List of animals\n",
    "animals = ['Koala', 'antelope', 'Gibbon', 'Alligator', 'manatee', 'Capybara']\n",
    "\n",
    "# Call the function with the animals list and print the result\n",
    "print(sort_alph(animals))"
   ]
  },
  {
   "cell_type": "code",
   "execution_count": 16,
   "id": "2eb8fbfb",
   "metadata": {},
   "outputs": [
    {
     "name": "stdout",
     "output_type": "stream",
     "text": [
      "50.0\n"
     ]
    }
   ],
   "source": [
    "# what is a default argument? You may not be aware, but we’ve already been calling functions that use default arguments a lot in this sprint. For example, sometimes we call print() without any arguments, yet Python knows to display a new line when we do that. That’s because the print() function sets the newline character '\\n' as the default argument for the parameter that represents whatever it is we want to print. So in reality, print() is still receiving an input argument when we call it without passing anything, it’s just happening behind the scenes where we can’t see it.\n",
    "\n",
    "def square_and_halve(number=10):\n",
    "    result = (number ** 2) / 2\n",
    "    return result\n",
    "\n",
    "x = square_and_halve()\n",
    "print(x)"
   ]
  },
  {
   "cell_type": "markdown",
   "id": "c99b984f",
   "metadata": {},
   "source": [
    "Flags\n",
    "A common use case for default arguments is function flags. Flags are usually boolean values that act like an on/off switch for certain behaviors of a function, and the switch usually has a default setting.\n",
    "\n",
    "An example you’re already familiar with is the sorted() function. It has a flag parameter called reverse= that’s set to False by default:"
   ]
  },
  {
   "cell_type": "code",
   "execution_count": null,
   "id": "6064ca68",
   "metadata": {},
   "outputs": [
    {
     "name": "stdout",
     "output_type": "stream",
     "text": [
      "Sorts in ascending order by default: [1, 2, 3, 4, 5, 5, 6, 7, 8, 9, 10]\n",
      "Change flag to sort in descending order: [10, 9, 8, 7, 6, 5, 5, 4, 3, 2, 1]\n"
     ]
    }
   ],
   "source": [
    "asc = sorted([10, 3, 4, 7, 9, 2, 1, 6, 5, 5, 8])\n",
    "desc = sorted([10, 3, 4, 7, 9, 2, 1, 6, 5, 5, 8], reverse=True)\n",
    "\n",
    "print(f\"Sorts in ascending order by default: {asc}\")\n",
    "print(f\"Change flag to sort in descending order: {desc}\")\n",
    "\n",
    "# The sorted() function is a built-in Python function that sorts the elements of a list in ascending order by default. However, you can also sort in descending order by using the reverse=True argument. This argument is a keyword argument, which means you can specify it by name when calling the function. In this case, reverse=True tells the sorted() function to sort the list in reverse order.\n",
    "# In this example, the reverse= flag controls the sorting order. By default, it sorts in ascending order, but when you set reverse=True, it sorts in descending order."
   ]
  },
  {
   "cell_type": "code",
   "execution_count": 19,
   "id": "dbe0326e",
   "metadata": {},
   "outputs": [
    {
     "name": "stdout",
     "output_type": "stream",
     "text": [
      "['alligator', 'antelope', 'capybara', 'gibbon', 'koala', 'manatee']\n",
      "['Alligator', 'antelope', 'Capybara', 'Gibbon', 'Koala', 'manatee']\n"
     ]
    }
   ],
   "source": [
    "def sort_alph(words, change_case=True):\n",
    "    # Convert words to lowercase and sort alphabetically if change_case is True\n",
    "    if change_case:\n",
    "        # Convert all words to lowercase\n",
    "        sorted_words = [word.lower() for word in words]\n",
    "        # Sort words in lowercase\n",
    "        sorted_words.sort()\n",
    "    else:\n",
    "        # Sort without changing case based on lowercase comparison\n",
    "        sorted_words = sorted(words, key=lambda x: x.lower())\n",
    "\n",
    "        # Map back to original capitalization\n",
    "        original_capitalization = {word.lower(): word for word in words}\n",
    "        sorted_words = [original_capitalization[word.lower()] for word in sorted_words]\n",
    "\n",
    "    return sorted_words\n",
    "\n",
    "# List of animals\n",
    "animals = ['Koala', 'antelope', 'Gibbon', 'Alligator', 'manatee', 'Capybara']\n",
    "\n",
    "# Testing the function with default flag (change_case=True)\n",
    "without_flag = sort_alph(animals)\n",
    "# Testing the function with flag set to False\n",
    "with_flag = sort_alph(animals, change_case=False)\n",
    "\n",
    "\n",
    "print(without_flag)\n",
    "print(with_flag)"
   ]
  },
  {
   "cell_type": "markdown",
   "id": "eba8a980",
   "metadata": {},
   "source": [
    "Positional and keyword arguments\n",
    " pass arguments to a function as positional arguments or keyword arguments\n"
   ]
  },
  {
   "cell_type": "code",
   "execution_count": null,
   "id": "75c5ac4a",
   "metadata": {},
   "outputs": [],
   "source": []
  }
 ],
 "metadata": {
  "kernelspec": {
   "display_name": "Python 3",
   "language": "python",
   "name": "python3"
  },
  "language_info": {
   "codemirror_mode": {
    "name": "ipython",
    "version": 3
   },
   "file_extension": ".py",
   "mimetype": "text/x-python",
   "name": "python",
   "nbconvert_exporter": "python",
   "pygments_lexer": "ipython3",
   "version": "3.11.9"
  }
 },
 "nbformat": 4,
 "nbformat_minor": 5
}
